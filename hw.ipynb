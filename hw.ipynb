{
 "cells": [
  {
   "cell_type": "markdown",
   "metadata": {},
   "source": [
    "## Домашнє завдання до теми «Apache Kafka»"
   ]
  },
  {
   "cell_type": "markdown",
   "metadata": {},
   "source": [
    "### 1. Створення топіків в Kafka"
   ]
  },
  {
   "cell_type": "code",
   "execution_count": 23,
   "metadata": {},
   "outputs": [],
   "source": [
    "from kafka.admin import KafkaAdminClient, NewTopic\n",
    "from configs import kafka_config\n",
    "from kafka import KafkaProducer, KafkaConsumer\n",
    "import json\n",
    "import uuid\n",
    "import time\n",
    "import random"
   ]
  },
  {
   "cell_type": "code",
   "execution_count": 24,
   "metadata": {},
   "outputs": [
    {
     "name": "stdout",
     "output_type": "stream",
     "text": [
      "An error occurred: [Error 36] TopicAlreadyExistsError: Request 'CreateTopicsRequest_v3(create_topic_requests=[(topic='maksymp_building_sensors', num_partitions=2, replication_factor=1, replica_assignment=[], configs=[]), (topic='maksymp_temperature_alerts', num_partitions=2, replication_factor=1, replica_assignment=[], configs=[]), (topic='maksymp_humidity_alerts', num_partitions=2, replication_factor=1, replica_assignment=[], configs=[])], timeout=30000, validate_only=False)' failed with response 'CreateTopicsResponse_v3(throttle_time_ms=0, topic_errors=[(topic='maksymp_building_sensors', error_code=36, error_message=\"Topic 'maksymp_building_sensors' already exists.\"), (topic='maksymp_temperature_alerts', error_code=36, error_message=\"Topic 'maksymp_temperature_alerts' already exists.\"), (topic='maksymp_humidity_alerts', error_code=36, error_message=\"Topic 'maksymp_humidity_alerts' already exists.\")])'.\n"
     ]
    }
   ],
   "source": [
    "# Створення клієнта Kafka\n",
    "admin_client = KafkaAdminClient(\n",
    "    bootstrap_servers=kafka_config['bootstrap_servers'],\n",
    "    security_protocol=kafka_config['security_protocol'],\n",
    "    sasl_mechanism=kafka_config['sasl_mechanism'],\n",
    "    sasl_plain_username=kafka_config['username'],\n",
    "    sasl_plain_password=kafka_config['password']\n",
    ")\n",
    "\n",
    "# Визначення нового топіку\n",
    "topic_names = [\n",
    "    f'{kafka_config['name']}_building_sensors',\n",
    "    f'{kafka_config['name']}_temperature_alerts',\n",
    "    f'{kafka_config['name']}_humidity_alerts',\n",
    "]\n",
    "\n",
    "num_partitions = 2\n",
    "replication_factor = 1\n",
    "new_topics = [ NewTopic(name=n, num_partitions=num_partitions, replication_factor=replication_factor) for n in topic_names ]\n",
    "\n",
    "# Створення нових топіків\n",
    "try:\n",
    "    admin_client.create_topics(new_topics=new_topics, validate_only=False)\n",
    "    print(f\"Topics are created successfully.\")\n",
    "    [print(topic) for topic in admin_client.list_topics() if kafka_config['name'] in topic]\n",
    "except Exception as e:\n",
    "    print(f\"An error occurred: {e}\")\n",
    "\n",
    "# Закриття зв'язку з клієнтом\n",
    "admin_client.close()"
   ]
  },
  {
   "cell_type": "markdown",
   "metadata": {},
   "source": [
    "### 2. Відправка даних до топіків"
   ]
  },
  {
   "cell_type": "code",
   "execution_count": null,
   "metadata": {},
   "outputs": [
    {
     "name": "stdout",
     "output_type": "stream",
     "text": [
      "SND >> maksymp_building_sensors: {'sensor_id': '3e4aa547-010f-4a98-8b70-5a1b52460eb3', 'timestamp': 1737807413.386982, 'temperature': 42, 'humidity': 72}\n",
      "SND >> maksymp_building_sensors: {'sensor_id': '3e4aa547-010f-4a98-8b70-5a1b52460eb3', 'timestamp': 1737807415.712957, 'temperature': 42, 'humidity': 42}\n",
      "SND >> maksymp_building_sensors: {'sensor_id': '3e4aa547-010f-4a98-8b70-5a1b52460eb3', 'timestamp': 1737807417.774233, 'temperature': 41, 'humidity': 72}\n",
      ". Exiting...\n"
     ]
    }
   ],
   "source": [
    "# Створення Kafka Producer\n",
    "producer = KafkaProducer(\n",
    "    bootstrap_servers=kafka_config['bootstrap_servers'],\n",
    "    security_protocol=kafka_config['security_protocol'],\n",
    "    sasl_mechanism=kafka_config['sasl_mechanism'],\n",
    "    sasl_plain_username=kafka_config['username'],\n",
    "    sasl_plain_password=kafka_config['password'],\n",
    "    value_serializer=lambda v: json.dumps(v).encode('utf-8'),\n",
    "    key_serializer=lambda v: json.dumps(v).encode('utf-8')\n",
    ")\n",
    "\n",
    "# Назва топіку\n",
    "topic_name = f'{kafka_config['name']}_building_sensors'\n",
    "\n",
    "sensor_id = str(uuid.uuid4())\n",
    "\n",
    "try:\n",
    "    for i in range(3000):\n",
    "    # Відправлення повідомлення в топік\n",
    "\n",
    "        data = {\n",
    "            \"sensor_id\": sensor_id,                 # Ідентифікатор датчика\n",
    "            \"timestamp\": time.time(),               # Часова мітка\n",
    "            \"temperature\": random.randint(25, 45),  # Випадкове значення температури\n",
    "            \"humidity\": random.randint(15, 85),     # Випадкове значення вологості\n",
    "        }\n",
    "        producer.send(topic_name, key=str(uuid.uuid4()), value=data)\n",
    "        producer.flush()  # Очікування, поки всі повідомлення будуть відправлені\n",
    "        print(f\"SND >> {topic_name}: {data}\")\n",
    "        time.sleep(2)\n",
    "\n",
    "except Exception as e:\n",
    "    print(f\"An error occurred: {e}\")\n",
    "except KeyboardInterrupt as e:\n",
    "    print(f'{e}. Exiting...')\n",
    "finally:\n",
    "    producer.close()  # Закриття producer"
   ]
  },
  {
   "cell_type": "markdown",
   "metadata": {},
   "source": [
    "### 3. Обробка даних"
   ]
  },
  {
   "cell_type": "code",
   "execution_count": 17,
   "metadata": {},
   "outputs": [
    {
     "name": "stdout",
     "output_type": "stream",
     "text": [
      "Subscribed to topic \"maksymp_building_sensors\"\n",
      "RCV << {'sensor_id': '85cea06e-9c34-45be-a242-aecd44fdf8ac', 'timestamp': 1737807399.1792421, 'temperature': 42, 'humidity': 27}\n",
      "SND >> maksymp_temperature_alerts: \"{'sensor_id': '85cea06e-9c34-45be-a242-aecd44fdf8ac', 'timestamp': 1737807399.1792421, 'temperature': 42, 'humidity': 27, 'message': 'High temperature alert!'}\"\n",
      "RCV << {'sensor_id': '85cea06e-9c34-45be-a242-aecd44fdf8ac', 'timestamp': 1737807401.6357424, 'temperature': 27, 'humidity': 43}\n",
      "RCV << {'sensor_id': '85cea06e-9c34-45be-a242-aecd44fdf8ac', 'timestamp': 1737807403.2469268, 'temperature': 39, 'humidity': 41}\n",
      "RCV << {'sensor_id': '3e4aa547-010f-4a98-8b70-5a1b52460eb3', 'timestamp': 1737807413.386982, 'temperature': 42, 'humidity': 72}\n",
      "SND >> maksymp_temperature_alerts: \"{'sensor_id': '3e4aa547-010f-4a98-8b70-5a1b52460eb3', 'timestamp': 1737807413.386982, 'temperature': 42, 'humidity': 72, 'message': 'High temperature alert!'}\"\n",
      "RCV << {'sensor_id': '3e4aa547-010f-4a98-8b70-5a1b52460eb3', 'timestamp': 1737807415.712957, 'temperature': 42, 'humidity': 42}\n",
      "SND >> maksymp_temperature_alerts: \"{'sensor_id': '3e4aa547-010f-4a98-8b70-5a1b52460eb3', 'timestamp': 1737807415.712957, 'temperature': 42, 'humidity': 42, 'message': 'High temperature alert!'}\"\n",
      "RCV << {'sensor_id': '85cea06e-9c34-45be-a242-aecd44fdf8ac', 'timestamp': 1737807403.6952028, 'temperature': 29, 'humidity': 16}\n",
      "SND >> maksymp_humidity_alerts: \"{'sensor_id': '85cea06e-9c34-45be-a242-aecd44fdf8ac', 'timestamp': 1737807403.6952028, 'temperature': 29, 'humidity': 16, 'message': 'Low humidity alert!'}\"\n",
      "RCV << {'sensor_id': '85cea06e-9c34-45be-a242-aecd44fdf8ac', 'timestamp': 1737807405.3115444, 'temperature': 38, 'humidity': 40}\n",
      "RCV << {'sensor_id': '85cea06e-9c34-45be-a242-aecd44fdf8ac', 'timestamp': 1737807407.3842623, 'temperature': 31, 'humidity': 61}\n",
      "RCV << {'sensor_id': '3e4aa547-010f-4a98-8b70-5a1b52460eb3', 'timestamp': 1737807417.774233, 'temperature': 41, 'humidity': 72}\n",
      "SND >> maksymp_temperature_alerts: \"{'sensor_id': '3e4aa547-010f-4a98-8b70-5a1b52460eb3', 'timestamp': 1737807417.774233, 'temperature': 41, 'humidity': 72, 'message': 'High temperature alert!'}\"\n",
      ". Exiting...\n"
     ]
    }
   ],
   "source": [
    "# Створення Kafka Consumer\n",
    "consumer = KafkaConsumer(\n",
    "    bootstrap_servers=kafka_config['bootstrap_servers'],\n",
    "    security_protocol=kafka_config['security_protocol'],\n",
    "    sasl_mechanism=kafka_config['sasl_mechanism'],\n",
    "    sasl_plain_username=kafka_config['username'],\n",
    "    sasl_plain_password=kafka_config['password'],\n",
    "    value_deserializer=lambda v: json.loads(v.decode('utf-8')),\n",
    "    key_deserializer=lambda v: json.loads(v.decode('utf-8')),\n",
    "    auto_offset_reset='earliest',  # Зчитування повідомлень з початку\n",
    "    enable_auto_commit=True,       # Автоматичне підтвердження зчитаних повідомлень\n",
    "    group_id=f'{kafka_config[\"name\"]}_group_1'   # Ідентифікатор групи споживачів\n",
    ")\n",
    "\n",
    "producer = KafkaProducer(\n",
    "    bootstrap_servers=kafka_config['bootstrap_servers'],\n",
    "    security_protocol=kafka_config['security_protocol'],\n",
    "    sasl_mechanism=kafka_config['sasl_mechanism'],\n",
    "    sasl_plain_username=kafka_config['username'],\n",
    "    sasl_plain_password=kafka_config['password'],\n",
    "    value_serializer=lambda v: json.dumps(v).encode('utf-8'),\n",
    "    key_serializer=lambda v: json.dumps(v).encode('utf-8')\n",
    ")\n",
    "\n",
    "# Назва топіку\n",
    "sensors_topic_name = f'{kafka_config['name']}_building_sensors'\n",
    "temperature_alerts_topic_name = f'{kafka_config['name']}_temperature_alerts'\n",
    "humidity_alerts_topic_name = f'{kafka_config['name']}_humidity_alerts'\n",
    "\n",
    "# Підписка на тему\n",
    "consumer.subscribe([sensors_topic_name])\n",
    "\n",
    "print(f'Subscribed to topic \"{sensors_topic_name}\"')\n",
    "\n",
    "# Обробка повідомлень з топіку\n",
    "try:\n",
    "    for message in consumer:\n",
    "        print(f'RCV << {message.value}')\n",
    "        if message.value['temperature'] > 40:\n",
    "            message.value['message'] = 'High temperature alert!'\n",
    "            producer.send(temperature_alerts_topic_name, message.value)\n",
    "            producer.flush()\n",
    "            print(f'SND >> {temperature_alerts_topic_name}: \"{message.value}\"')\n",
    "        if message.value['humidity'] > 80:\n",
    "            message.value['message'] = 'High humidity alert!'\n",
    "        elif message.value['humidity'] < 20:\n",
    "            message.value['message'] = 'Low humidity alert!'\n",
    "        else:\n",
    "            continue\n",
    "        producer.send(humidity_alerts_topic_name, message.value)\n",
    "        producer.flush()\n",
    "        print(f'SND >> {humidity_alerts_topic_name}: \"{message.value}\"')\n",
    "\n",
    "except Exception as e:\n",
    "    print(f'An error occurred: {e}')\n",
    "except KeyboardInterrupt as e:\n",
    "    print(f'{e}. Exiting...')\n",
    "finally:\n",
    "    consumer.close()  # Закриття consumer\n",
    "    producer.close()  # Закриття producer\n"
   ]
  },
  {
   "cell_type": "markdown",
   "metadata": {},
   "source": [
    "### 4. Остаточні дані"
   ]
  },
  {
   "cell_type": "code",
   "execution_count": 18,
   "metadata": {},
   "outputs": [
    {
     "name": "stdout",
     "output_type": "stream",
     "text": [
      "Subscribed to topics \"['maksymp_temperature_alerts', 'maksymp_humidity_alerts']\"\n",
      "RCV << {'sensor_id': '85cea06e-9c34-45be-a242-aecd44fdf8ac', 'timestamp': 1737807399.1792421, 'temperature': 42, 'humidity': 27, 'message': 'High temperature alert!'}\n",
      "RCV << {'sensor_id': '3e4aa547-010f-4a98-8b70-5a1b52460eb3', 'timestamp': 1737807413.386982, 'temperature': 42, 'humidity': 72, 'message': 'High temperature alert!'}\n",
      "RCV << {'sensor_id': '3e4aa547-010f-4a98-8b70-5a1b52460eb3', 'timestamp': 1737807415.712957, 'temperature': 42, 'humidity': 42, 'message': 'High temperature alert!'}\n",
      "RCV << {'sensor_id': '3e4aa547-010f-4a98-8b70-5a1b52460eb3', 'timestamp': 1737807417.774233, 'temperature': 41, 'humidity': 72, 'message': 'High temperature alert!'}\n",
      "RCV << {'sensor_id': '85cea06e-9c34-45be-a242-aecd44fdf8ac', 'timestamp': 1737807403.6952028, 'temperature': 29, 'humidity': 16, 'message': 'Low humidity alert!'}\n",
      ". Exiting...\n"
     ]
    }
   ],
   "source": [
    "# Створення Kafka Consumer\n",
    "consumer = KafkaConsumer(\n",
    "    bootstrap_servers=kafka_config['bootstrap_servers'],\n",
    "    security_protocol=kafka_config['security_protocol'],\n",
    "    sasl_mechanism=kafka_config['sasl_mechanism'],\n",
    "    sasl_plain_username=kafka_config['username'],\n",
    "    sasl_plain_password=kafka_config['password'],\n",
    "    value_deserializer=lambda v: json.loads(v.decode('utf-8')),\n",
    "    key_deserializer=lambda v: json.loads(v.decode('utf-8')),\n",
    "    auto_offset_reset='earliest',  # Зчитування повідомлень з початку\n",
    "    enable_auto_commit=True,       # Автоматичне підтвердження зчитаних повідомлень\n",
    "    group_id=f'{kafka_config[\"name\"]}_group_1'   # Ідентифікатор групи споживачів\n",
    ")\n",
    "\n",
    "# Назва топіку\n",
    "temperature_alerts_topic_name = f'{kafka_config['name']}_temperature_alerts'\n",
    "humidity_alerts_topic_name = f'{kafka_config['name']}_humidity_alerts'\n",
    "\n",
    "# Підписка на тему\n",
    "consumer.subscribe([temperature_alerts_topic_name, humidity_alerts_topic_name])\n",
    "\n",
    "print(f'Subscribed to topics \"{[temperature_alerts_topic_name, humidity_alerts_topic_name]}\"')\n",
    "\n",
    "# Обробка повідомлень з топіку\n",
    "try:\n",
    "    for message in consumer:\n",
    "        print(f'RCV << {message.value}')\n",
    "\n",
    "except Exception as e:\n",
    "    print(f'An error occurred: {e}')\n",
    "except KeyboardInterrupt as e:\n",
    "    print(f'{e}. Exiting...')\n",
    "finally:\n",
    "    consumer.close()  # Закриття consumer"
   ]
  }
 ],
 "metadata": {
  "kernelspec": {
   "display_name": ".env3.12_mds_de",
   "language": "python",
   "name": "python3"
  },
  "language_info": {
   "codemirror_mode": {
    "name": "ipython",
    "version": 3
   },
   "file_extension": ".py",
   "mimetype": "text/x-python",
   "name": "python",
   "nbconvert_exporter": "python",
   "pygments_lexer": "ipython3",
   "version": "3.12.3"
  }
 },
 "nbformat": 4,
 "nbformat_minor": 2
}
